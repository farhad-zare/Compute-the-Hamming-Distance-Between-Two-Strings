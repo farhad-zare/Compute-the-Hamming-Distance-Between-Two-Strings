{
 "cells": [
  {
   "cell_type": "code",
   "execution_count": 32,
   "metadata": {},
   "outputs": [
    {
     "name": "stdout",
     "output_type": "stream",
     "text": [
      "enter first geneom:TTTTTTTGTACCGTCTCCGAAGCAAAAGAATTGCTTACTTTATGTAGGACAATGGCTAACAACCCGATGGGCTAGGTTAGTGGCAAGAGCGATGGCCTCCGGCCCCTAACGGGTTGGAATCCTAGGCCGTGTACGATCCTGCCGATCGAGCCGCCAAACGCTGGGCCGATGATAAACGCGAAGGACATAGCCGACCATGCAGTCCGTGTTAAGGATCAGATACGCATACGGTATTAGGTCGAGACTCCGTCCCTATACTTATGCCATAGGGACAACTCCAACACTGCCCGTCTAGTCAAACTGTGAATCAGTCTCATGACCGGTTCATCGGGGCACATAAATGGCTTAGTGTCAGCCACTCTGGACTGCAAGGGTGAGTAATCTCATTTAGACACAGGAATCCCGCGGTCATTGGGCATGCCTGAACCCCCCAAAACGTTAGGCACGCACAACTGGAGCCCTTGTTCCTGCCGCCCGTCGTACCTCGGTTCCCCCTCTGGGGTCGCTCCTTGACAGGAGAGACAGGGCACTCAATTATGATACTCAAGCCTCTTAATTGTTACGTGTCTTTGCCCAGAATGTCGGTTAGACCCGGATCAGTGGTAATGGCAGTACATTTCTAGCGCTGCATGACGACGTAAACATACCATCATAGACACCCTGATGGCCGATGGATCCCGATCTTCCCTTGGTATGACGCGAGACCTGCTTATGATAAGAGGAGGAGGGCCACAGCCTTGCGGGTATCGTCATAGTGTGAACCAGCTAGTACAGATGACCTCGTACAGAGTGATATATATGCTGTTTGAAACGTACGGCATCCCAACGTGTACAGAGCTCGTCCATCTAGCGATCTGGCATGTAAGGTTCCATATTTTGCCTGTGAAACCTAGATAGGGCGTGAGTGGTCCTACCATGTTCTACATGCTAAATTGCGAATGACGGAGATGTGCCAATCGCAAGATTTGTCACTATGAACCCCAGACTTCGTGTGTCGATACAATAACCTCGACCAAGTTAAAGCCGCGGGCCATCAATACGCCGTGCTACGATACTCTATGTTTGACGAGTCCAGGGCCTAATGTGGTGGTGTAGAATTGGCCGGGACTAATCGGCCCACCTGCCCCG\n"
     ]
    }
   ],
   "source": [
    "p=input('enter first geneom:')"
   ]
  },
  {
   "cell_type": "code",
   "execution_count": 33,
   "metadata": {},
   "outputs": [
    {
     "name": "stdout",
     "output_type": "stream",
     "text": [
      "enter second string:TTACGGGGCGCAGGCTATAAGCTGGTACATCATTCTCGAGTTCCACGGAGTGGCAAAAATCGGCCATATGTTTACAATCCTAGGCTATGCGGCGGTGGCTTGCTCCCCTCGTAATCCGTCGTCGAGTGGTGGAGATTAACGGGATGGGATTTTAGTGTCTATCTCGCAATACGCGCGTTCCTTCTTAGCCTTGGTGGAGGATCTATACGTTTAAGTGTATCAGTTATTTCTTTGTATCCGCTGTCGCGCAACCAACCTTACCTGTTGTGGGGGAGTTCCAGTCCATCCACGCCGTTCTTAAGTCGGATGCCGCATTTAAGATCAATGTACTCTAACGACAGCTTGACGCGTTATGCCTCTGCACGTAGTCAATCATTTGACACCATCCACAGACAGGGAGGATACTCTGGTTTCTCTGGTCTTTCGATACTGAGGCGATCTCTAGTGCAGTGGCGGGGTTCCTTTACCATTGGCCTCCATTAGGCGCCGCCGGCTAACATTTCTCTATTTGATGTGATGTGCGAGACCCTGATCGTCGGGCCGTCCTGGAACCGGCTATCAGGCACTGATCAGGACTGAAGCTAGGACCGAGGGTTTAATACTATGTAACTATAAAACAGCTTGTAGTATTCGGATGGCCTAATCCTATACAGCCGATTACTAGAGCACCCGTAGCAGTATGATAGAGTAGCTGAATTAGCGACAATGCAAGTGCCATCTAGTCCGGCACCGTAAACCCTGGAAATCCTGCAGCGTTAATGCGTGGCGTGCTCGGATTATCGAACCCGTCCTCCCTAGGGCGATCTTACTGTGAATGAACAACAGTTGCGCTATTGTAAGGCGCATCGTTGTTACACCAGATTCAGAAACTGATCGTTACGACCTTGTGAAACTGAAAAACCCCGAATTCTTAGTAAGCTAACTCCCGTGCTGTTGATATGGGCTTTCTTCACAGATCATTGAGGTGGCTCTGGAGGCGTTGGCGTCCCAGATGTCGGACCACCCACGCCCGTCGCCCAGGCGCATTGGCGTCCCCTCAACAGGTTTTGGGAGGTAACCTTAGACTATGCGGAATTTTCAACTTTTTCAGACAATGACACCGTTAACCTCGATTTTGAAGTGTAGGCG\n"
     ]
    }
   ],
   "source": [
    "q=input('enter second string:' )"
   ]
  },
  {
   "cell_type": "code",
   "execution_count": 10,
   "metadata": {},
   "outputs": [],
   "source": [
    "dic={'A':'T','T':'A','C':'G','G':'C'}\n",
    "def compliment(S):\n",
    "    SC=''\n",
    "    for i in S:\n",
    "        SC=SC+dic[i]\n",
    "    return SC"
   ]
  },
  {
   "cell_type": "code",
   "execution_count": 27,
   "metadata": {},
   "outputs": [],
   "source": [
    "def HammingDistance(p, q):\n",
    "    \n",
    "    if len(p)>len(q):\n",
    "        M=max([len(p),len(q)])\n",
    "        q=q+compliment(p[len(q):len(p)+1])\n",
    "        count=0\n",
    "        for i in range(0,M):\n",
    "            if p[i]!=q[i]:\n",
    "                count+=1\n",
    "    if len(p)<len(q):\n",
    "        M=max([len(p),len(q)])\n",
    "        p=p+compliment(q[len(p):len(q)+1])\n",
    "        count=0\n",
    "        for i in range(0,M):\n",
    "            if p[i]!=q[i]:\n",
    "                count+=1\n",
    "    else:\n",
    "        M=max([len(p),len(q)])\n",
    "        count=0\n",
    "        for i in range(0,M):\n",
    "            if p[i]!=q[i]:\n",
    "                count+=1\n",
    "    return count       \n"
   ]
  },
  {
   "cell_type": "code",
   "execution_count": 34,
   "metadata": {},
   "outputs": [
    {
     "data": {
      "text/plain": [
       "848"
      ]
     },
     "execution_count": 34,
     "metadata": {},
     "output_type": "execute_result"
    }
   ],
   "source": [
    "HammingDistance(p,q)"
   ]
  },
  {
   "cell_type": "code",
   "execution_count": null,
   "metadata": {},
   "outputs": [],
   "source": []
  }
 ],
 "metadata": {
  "kernelspec": {
   "display_name": "Python 3",
   "language": "python",
   "name": "python3"
  },
  "language_info": {
   "codemirror_mode": {
    "name": "ipython",
    "version": 3
   },
   "file_extension": ".py",
   "mimetype": "text/x-python",
   "name": "python",
   "nbconvert_exporter": "python",
   "pygments_lexer": "ipython3",
   "version": "3.7.4"
  }
 },
 "nbformat": 4,
 "nbformat_minor": 2
}
